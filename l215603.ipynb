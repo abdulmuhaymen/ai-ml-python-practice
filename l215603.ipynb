{
  "nbformat": 4,
  "nbformat_minor": 0,
  "metadata": {
    "colab": {
      "provenance": []
    },
    "kernelspec": {
      "name": "python3",
      "display_name": "Python 3"
    },
    "language_info": {
      "name": "python"
    }
  },
  "cells": [
    {
      "cell_type": "code",
      "source": [
        "def check_input(matrix):\n",
        "  N = len(matrix)\n",
        "  for i in range(N):\n",
        "    for j in range(N):\n",
        "      count =0\n",
        "      if type(matrix[i][j]) == str:\n",
        "        return False\n",
        "      if matrix[i][j] < 1 or matrix[i][j] > N:\n",
        "        return False\n",
        "      for k in range(N):\n",
        "        if matrix[i][j] == matrix[i][k]:\n",
        "          count = count +1\n",
        "      if count > 1:\n",
        "        return False\n",
        "  for j in range(N):\n",
        "    for i in range(N):\n",
        "      count = 0\n",
        "      for k in range(N):\n",
        "        if matrix[i][j] == matrix[k][j]:\n",
        "          count = count +1\n",
        "      if count > 1:\n",
        "        return False\n",
        "  return True"
      ],
      "metadata": {
        "id": "LVywyvpmlLPc"
      },
      "execution_count": 50,
      "outputs": []
    },
    {
      "cell_type": "code",
      "source": [
        "test1 = [[1, 2, 3],\n",
        "        [2, 3, 1],\n",
        "        [3, 1, 2]]\n",
        "\n",
        "test2 = [[1, 2, 3, 4],\n",
        "        [2, 3, 1, 3],\n",
        "        [3, 1, 2, 3],\n",
        "        [4, 4, 4, 4]]\n",
        "\n",
        "test3 = [['a', 'b', 'c'],\n",
        "        ['b', 'c', 'a'],\n",
        "        ['c', 'a', 'b']]\n",
        "\n",
        "print(check_input(test1)) # must return true\n",
        "print(check_input(test2)) # must return false\n",
        "print(check_input(test3)) # must return"
      ],
      "metadata": {
        "colab": {
          "base_uri": "https://localhost:8080/"
        },
        "id": "EOzob64VlOLW",
        "outputId": "085ff4a6-56f8-4843-8552-aab4f18c1335"
      },
      "execution_count": 51,
      "outputs": [
        {
          "output_type": "stream",
          "name": "stdout",
          "text": [
            "True\n",
            "False\n",
            "False\n"
          ]
        }
      ]
    }
  ]
}